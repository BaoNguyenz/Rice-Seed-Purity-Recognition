{
 "cells": [
  {
   "cell_type": "code",
   "execution_count": 1,
   "metadata": {
    "execution": {
     "iopub.execute_input": "2024-09-20T04:18:59.758037Z",
     "iopub.status.busy": "2024-09-20T04:18:59.757710Z",
     "iopub.status.idle": "2024-09-20T04:19:13.283027Z",
     "shell.execute_reply": "2024-09-20T04:19:13.282083Z",
     "shell.execute_reply.started": "2024-09-20T04:18:59.758002Z"
    },
    "trusted": true
   },
   "outputs": [],
   "source": [
    "import os\n",
    "from PIL import Image\n",
    "import pandas as pd\n",
    "import matplotlib.pyplot as plt\n",
    "from sklearn.model_selection import train_test_split\n",
    "from sklearn.preprocessing import LabelEncoder\n",
    "\n",
    "import tensorflow as tf\n",
    "from tensorflow.keras.models import Sequential\n",
    "from tensorflow.keras.layers import Dense, Flatten, Conv2D, Input, LayerNormalization, Dropout, Add\n",
    "from tensorflow.keras.optimizers import Adam\n",
    "from tensorflow.keras import Model\n",
    "from tensorflow.keras.layers import MultiHeadAttention\n",
    "\n",
    "from tensorflow.keras.applications import VGG16\n",
    "from tensorflow.keras.models import Model\n",
    "from tensorflow.keras.layers import Dense, Flatten, Dropout, BatchNormalization\n",
    "from tensorflow.keras.optimizers import Adam, Nadam\n",
    "from tensorflow.keras.preprocessing.image import ImageDataGenerator\n",
    "from tensorflow.keras.callbacks import ModelCheckpoint, EarlyStopping, ReduceLROnPlateau, CSVLogger\n",
    "from tensorflow.keras.regularizers import l2\n",
    "from time import time"
   ]
  },
  {
   "cell_type": "code",
   "execution_count": null,
   "metadata": {
    "execution": {
     "iopub.execute_input": "2024-09-20T04:19:13.286066Z",
     "iopub.status.busy": "2024-09-20T04:19:13.285034Z",
     "iopub.status.idle": "2024-09-20T04:19:31.184961Z",
     "shell.execute_reply": "2024-09-20T04:19:31.183939Z",
     "shell.execute_reply.started": "2024-09-20T04:19:13.286019Z"
    },
    "trusted": true
   },
   "outputs": [],
   "source": [
    "dataset_path = ''\n",
    "\n",
    "garbage_types = os.listdir(dataset_path)\n",
    "\n",
    "all_dimensions_set = set()\n",
    "\n",
    "for garbage_type in garbage_types:\n",
    "    folder_path = os.path.join(dataset_path, garbage_type)\n",
    "\n",
    "    if os.path.isdir(folder_path):\n",
    "        image_files = [f for f in os.listdir(folder_path) if f.endswith(('png', 'jpeg', 'jpg'))]\n",
    "\n",
    "        num_images = len(image_files)\n",
    "        print(f\"{garbage_type} folder contains {num_images} images.\")\n",
    "\n",
    "        for image_file in image_files:\n",
    "            image_path = os.path.join(folder_path, image_file)\n",
    "            with Image.open(image_path) as img:\n",
    "                width, height = img.size\n",
    "                channels = len(img.getbands())\n",
    "                all_dimensions_set.add((width, height, channels))\n",
    "\n",
    "if len(all_dimensions_set) == 1:\n",
    "    width, height, channels = all_dimensions_set.pop()\n",
    "    print(f\"\\nAll images in the dataset have the same dimensions: {width}x{height} with {channels} color channels.\")\n",
    "else:\n",
    "    print(\"\\nThe images in the dataset have different dimensions or color channels.\")"
   ]
  },
  {
   "cell_type": "code",
   "execution_count": null,
   "metadata": {
    "execution": {
     "iopub.execute_input": "2024-09-20T04:19:31.186728Z",
     "iopub.status.busy": "2024-09-20T04:19:31.186299Z",
     "iopub.status.idle": "2024-09-20T04:19:32.111695Z",
     "shell.execute_reply": "2024-09-20T04:19:32.110603Z",
     "shell.execute_reply.started": "2024-09-20T04:19:31.186683Z"
    },
    "trusted": true
   },
   "outputs": [],
   "source": [
    "for garbage_type in garbage_types:\n",
    "    folder_path = os.path.join(dataset_path, garbage_type)\n",
    "\n",
    "    if os.path.isdir(folder_path):\n",
    "        image_files = [f for f in os.listdir(folder_path) if f.endswith(('png', 'jpeg', 'jpg'))]\n",
    "\n",
    "        image_files = image_files[:7]\n",
    "\n",
    "        fig, axs = plt.subplots(1, 7, figsize=(15, 2))\n",
    "\n",
    "        for i, image_file in enumerate(image_files):\n",
    "            image_path = os.path.join(folder_path, image_file)\n",
    "            with Image.open(image_path) as img:\n",
    "                axs[i].imshow(img)\n",
    "                axs[i].axis('off')\n",
    "\n",
    "        plt.tight_layout()\n",
    "        fig.suptitle(garbage_type, fontsize=20, y=1.03)"
   ]
  },
  {
   "cell_type": "code",
   "execution_count": null,
   "metadata": {
    "execution": {
     "iopub.execute_input": "2024-09-20T04:19:32.121519Z",
     "iopub.status.busy": "2024-09-20T04:19:32.121174Z",
     "iopub.status.idle": "2024-09-20T04:19:32.168237Z",
     "shell.execute_reply": "2024-09-20T04:19:32.167324Z",
     "shell.execute_reply.started": "2024-09-20T04:19:32.121485Z"
    },
    "trusted": true
   },
   "outputs": [],
   "source": [
    "data = []\n",
    "\n",
    "for garbage_type in garbage_types:\n",
    "    for file in os.listdir(os.path.join(dataset_path, garbage_type)):\n",
    "        data.append((os.path.join(dataset_path, garbage_type, file), garbage_type))\n",
    "\n",
    "df = pd.DataFrame(data, columns=['filepath', 'label'])\n",
    "\n",
    "print(df.head())\n",
    "\n",
    "train_ratio = 0.55\n",
    "val_ratio = 0.15\n",
    "test_ratio = 0.30\n",
    "\n",
    "temp, val_df = train_test_split(df, test_size=val_ratio, random_state=42, stratify=df['label'])\n",
    "\n",
    "train_df, test_df = train_test_split(temp, test_size=test_ratio / (train_ratio + test_ratio), random_state=42, stratify=temp['label'])\n",
    " \n",
    "print(f\"Number of images in the training set: {len(train_df)}\")\n",
    "print(f\"Number of images in the test set: {len(test_df)}\")\n",
    "print(f\"Number of images in the validation set: {len(val_df)}\")"
   ]
  },
  {
   "cell_type": "code",
   "execution_count": null,
   "metadata": {
    "execution": {
     "iopub.execute_input": "2024-09-20T04:19:32.170221Z",
     "iopub.status.busy": "2024-09-20T04:19:32.169595Z",
     "iopub.status.idle": "2024-09-20T04:19:38.133366Z",
     "shell.execute_reply": "2024-09-20T04:19:38.132592Z",
     "shell.execute_reply.started": "2024-09-20T04:19:32.170176Z"
    },
    "trusted": true
   },
   "outputs": [],
   "source": [
    "from tensorflow.keras.applications import VGG16, InceptionV3\n",
    "\n",
    "base_model = InceptionV3(weights='imagenet', include_top=False, input_shape=(224, 224, 3))\n",
    "\n",
    "for layer in base_model.layers:\n",
    "    layer.trainable = False"
   ]
  },
  {
   "cell_type": "code",
   "execution_count": 7,
   "metadata": {
    "execution": {
     "iopub.execute_input": "2024-09-20T04:19:38.135057Z",
     "iopub.status.busy": "2024-09-20T04:19:38.134759Z",
     "iopub.status.idle": "2024-09-20T04:19:38.215239Z",
     "shell.execute_reply": "2024-09-20T04:19:38.213897Z",
     "shell.execute_reply.started": "2024-09-20T04:19:38.135026Z"
    },
    "trusted": true
   },
   "outputs": [],
   "source": [
    "x = Flatten()(base_model.output)\n",
    "\n",
    "x = Dense(32, activation='relu', kernel_regularizer=l2(0.01))(x)\n",
    "x = BatchNormalization()(x)\n",
    "x = Dropout(0.5)(x)\n",
    "\n",
    "predictions = Dense(1, activation='sigmoid')(x)\n",
    "\n",
    "model = Model(inputs=base_model.input, outputs=predictions)"
   ]
  },
  {
   "cell_type": "code",
   "execution_count": 8,
   "metadata": {
    "execution": {
     "iopub.execute_input": "2024-09-20T04:19:38.217137Z",
     "iopub.status.busy": "2024-09-20T04:19:38.216734Z",
     "iopub.status.idle": "2024-09-20T04:19:38.233739Z",
     "shell.execute_reply": "2024-09-20T04:19:38.232925Z",
     "shell.execute_reply.started": "2024-09-20T04:19:38.217083Z"
    },
    "trusted": true
   },
   "outputs": [],
   "source": [
    "model.compile(optimizer=Adam(learning_rate=0.0001), loss='binary_crossentropy', metrics=['accuracy'])\n",
    "# model.summary()"
   ]
  },
  {
   "cell_type": "code",
   "execution_count": 9,
   "metadata": {
    "execution": {
     "iopub.execute_input": "2024-09-20T04:19:38.235364Z",
     "iopub.status.busy": "2024-09-20T04:19:38.234986Z",
     "iopub.status.idle": "2024-09-20T04:19:38.243112Z",
     "shell.execute_reply": "2024-09-20T04:19:38.241838Z",
     "shell.execute_reply.started": "2024-09-20T04:19:38.235323Z"
    },
    "trusted": true
   },
   "outputs": [],
   "source": [
    "checkpoint = ModelCheckpoint(\n",
    "    'best_model.keras', monitor='val_loss', verbose=1, save_best_only=True, mode='min'\n",
    ")\n",
    "\n",
    "early_stopping = EarlyStopping(\n",
    "    monitor='val_loss', patience=30, verbose=1, mode='min'\n",
    ")\n",
    "\n",
    "csv_logger = CSVLogger('training_log.csv')\n",
    "\n",
    "callbacks_list = [checkpoint, early_stopping, csv_logger]"
   ]
  },
  {
   "cell_type": "code",
   "execution_count": null,
   "metadata": {
    "execution": {
     "iopub.execute_input": "2024-09-20T04:19:38.247133Z",
     "iopub.status.busy": "2024-09-20T04:19:38.246702Z",
     "iopub.status.idle": "2024-09-20T04:19:39.667571Z",
     "shell.execute_reply": "2024-09-20T04:19:39.666623Z",
     "shell.execute_reply.started": "2024-09-20T04:19:38.247087Z"
    },
    "trusted": true
   },
   "outputs": [],
   "source": [
    "from tensorflow.keras.preprocessing.image import ImageDataGenerator\n",
    "\n",
    "train_datagen = ImageDataGenerator(rescale=1./255)\n",
    "test_datagen = ImageDataGenerator(rescale=1./255)\n",
    "val_datagen = ImageDataGenerator(rescale=1./255)\n",
    "\n",
    "train_generator = train_datagen.flow_from_dataframe(\n",
    "    train_df,\n",
    "    x_col='filepath',\n",
    "    y_col='label',\n",
    "    target_size=(224, 224), \n",
    "    batch_size=32,\n",
    "    class_mode='binary'  \n",
    ")\n",
    "\n",
    "test_generator = test_datagen.flow_from_dataframe(\n",
    "    test_df,\n",
    "    x_col='filepath',\n",
    "    y_col='label',\n",
    "    target_size=(224, 224),\n",
    "    batch_size=32,\n",
    "    class_mode='binary'\n",
    ")\n",
    "\n",
    "val_generator = val_datagen.flow_from_dataframe(\n",
    "    val_df,\n",
    "    x_col='filepath',\n",
    "    y_col='label',\n",
    "    target_size=(224, 224),\n",
    "    batch_size=32,\n",
    "    class_mode='binary'\n",
    ")"
   ]
  },
  {
   "cell_type": "code",
   "execution_count": null,
   "metadata": {
    "execution": {
     "iopub.execute_input": "2024-09-20T04:19:39.669645Z",
     "iopub.status.busy": "2024-09-20T04:19:39.668872Z",
     "iopub.status.idle": "2024-09-20T04:27:41.661736Z",
     "shell.execute_reply": "2024-09-20T04:27:41.660770Z",
     "shell.execute_reply.started": "2024-09-20T04:19:39.669597Z"
    },
    "trusted": true
   },
   "outputs": [],
   "source": [
    "start_time = time()\n",
    "\n",
    "history = model.fit(\n",
    "    train_generator,\n",
    "    steps_per_epoch=train_generator.samples // train_generator.batch_size,\n",
    "    epochs=200,\n",
    "    validation_data=val_generator,\n",
    "    validation_steps=val_generator.samples // val_generator.batch_size,\n",
    "    callbacks = callbacks_list\n",
    ")\n",
    "\n",
    "end_time = time()\n",
    "training_time = end_time - start_time\n",
    "\n",
    "print(f\"Total training time: {training_time // 60} minutes and {training_time % 60} seconds\")"
   ]
  },
  {
   "cell_type": "code",
   "execution_count": null,
   "metadata": {
    "execution": {
     "iopub.execute_input": "2024-09-20T04:27:41.663105Z",
     "iopub.status.busy": "2024-09-20T04:27:41.662816Z",
     "iopub.status.idle": "2024-09-20T04:27:44.575851Z",
     "shell.execute_reply": "2024-09-20T04:27:44.574939Z",
     "shell.execute_reply.started": "2024-09-20T04:27:41.663073Z"
    },
    "trusted": true
   },
   "outputs": [],
   "source": [
    "val_loss, val_accuracy = model.evaluate(val_generator, steps=val_generator.samples // val_generator.batch_size)\n",
    "print(f\"Validation Loss: {val_loss}\")\n",
    "print(f\"Validation Accuracy: {val_accuracy}\")\n",
    "\n",
    "test_loss, test_accuracy = model.evaluate(test_generator, steps=test_generator.samples // test_generator.batch_size)\n",
    "print(f\"Test Loss: {test_loss}\")\n",
    "print(f\"Test Accuracy: {test_accuracy}\")"
   ]
  },
  {
   "cell_type": "code",
   "execution_count": null,
   "metadata": {
    "execution": {
     "iopub.execute_input": "2024-09-20T04:27:44.577377Z",
     "iopub.status.busy": "2024-09-20T04:27:44.577069Z",
     "iopub.status.idle": "2024-09-20T04:27:45.084934Z",
     "shell.execute_reply": "2024-09-20T04:27:45.083932Z",
     "shell.execute_reply.started": "2024-09-20T04:27:44.577344Z"
    },
    "trusted": true
   },
   "outputs": [],
   "source": [
    "import matplotlib.pyplot as plt\n",
    "\n",
    "plt.figure(figsize=(12, 4))\n",
    "\n",
    "plt.subplot(1, 2, 1)\n",
    "plt.plot(history.history['accuracy'])\n",
    "plt.plot(history.history['val_accuracy'])\n",
    "plt.title('Model Accuracy')\n",
    "plt.ylabel('Accuracy')\n",
    "plt.xlabel('Epoch')\n",
    "plt.legend(['Train', 'Validation'], loc='lower left')\n",
    "\n",
    "plt.subplot(1, 2, 2)\n",
    "plt.plot(history.history['loss'])\n",
    "plt.plot(history.history['val_loss'])\n",
    "plt.title('Model Loss')\n",
    "plt.ylabel('Loss')\n",
    "plt.xlabel('Epoch')\n",
    "plt.legend(['Train', 'Validation'], loc='upper left')\n",
    "\n",
    "plt.show()"
   ]
  }
 ],
 "metadata": {
  "kaggle": {
   "accelerator": "gpu",
   "dataSources": [
    {
     "datasetId": 5131489,
     "sourceId": 8580506,
     "sourceType": "datasetVersion"
    }
   ],
   "dockerImageVersionId": 30762,
   "isGpuEnabled": true,
   "isInternetEnabled": true,
   "language": "python",
   "sourceType": "notebook"
  },
  "kernelspec": {
   "display_name": "Python 3",
   "language": "python",
   "name": "python3"
  },
  "language_info": {
   "codemirror_mode": {
    "name": "ipython",
    "version": 3
   },
   "file_extension": ".py",
   "mimetype": "text/x-python",
   "name": "python",
   "nbconvert_exporter": "python",
   "pygments_lexer": "ipython3",
   "version": "3.10.14"
  }
 },
 "nbformat": 4,
 "nbformat_minor": 4
}
