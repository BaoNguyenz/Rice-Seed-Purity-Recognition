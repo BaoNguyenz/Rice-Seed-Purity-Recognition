{
 "cells": [
  {
   "cell_type": "code",
   "execution_count": 1,
   "metadata": {
    "_cell_guid": "b1076dfc-b9ad-4769-8c92-a6c4dae69d19",
    "_uuid": "8f2839f25d086af736a60e9eeb907d3b93b6e0e5",
    "execution": {
     "iopub.execute_input": "2024-09-09T06:03:24.480902Z",
     "iopub.status.busy": "2024-09-09T06:03:24.479924Z",
     "iopub.status.idle": "2024-09-09T06:03:38.274107Z",
     "shell.execute_reply": "2024-09-09T06:03:38.273288Z",
     "shell.execute_reply.started": "2024-09-09T06:03:24.480849Z"
    },
    "trusted": true
   },
   "outputs": [],
   "source": [
    "import os\n",
    "from PIL import Image\n",
    "import pandas as pd\n",
    "import matplotlib.pyplot as plt\n",
    "from sklearn.model_selection import train_test_split\n",
    "from sklearn.preprocessing import LabelEncoder\n",
    "\n",
    "import tensorflow as tf\n",
    "from tensorflow.keras.models import Sequential\n",
    "from tensorflow.keras.layers import Dense, Flatten, Conv2D, Input, LayerNormalization, Dropout, Add\n",
    "from tensorflow.keras.optimizers import Adam\n",
    "from tensorflow.keras import Model\n",
    "from tensorflow.keras.layers import MultiHeadAttention\n",
    "\n",
    "from tensorflow.keras.models import Model\n",
    "from tensorflow.keras.layers import Dense, Flatten, Dropout, BatchNormalization\n",
    "from tensorflow.keras.optimizers import Adam, Nadam\n",
    "from tensorflow.keras.preprocessing.image import ImageDataGenerator\n",
    "from tensorflow.keras.callbacks import ModelCheckpoint, EarlyStopping, ReduceLROnPlateau, CSVLogger\n",
    "from tensorflow.keras.regularizers import l2\n",
    "from time import time"
   ]
  },
  {
   "cell_type": "code",
   "execution_count": null,
   "metadata": {
    "execution": {
     "iopub.execute_input": "2024-09-09T06:03:38.276799Z",
     "iopub.status.busy": "2024-09-09T06:03:38.275993Z",
     "iopub.status.idle": "2024-09-09T06:04:02.573774Z",
     "shell.execute_reply": "2024-09-09T06:04:02.572830Z",
     "shell.execute_reply.started": "2024-09-09T06:03:38.276740Z"
    },
    "trusted": true
   },
   "outputs": [],
   "source": [
    "dataset_path = ''\n",
    "\n",
    "garbage_types = os.listdir(dataset_path)\n",
    "\n",
    "all_dimensions_set = set()\n",
    "\n",
    "for garbage_type in garbage_types:\n",
    "    folder_path = os.path.join(dataset_path, garbage_type)\n",
    "\n",
    "    if os.path.isdir(folder_path):\n",
    "        image_files = [f for f in os.listdir(folder_path) if f.endswith(('png', 'jpeg', 'jpg'))]\n",
    "\n",
    "        num_images = len(image_files)\n",
    "        print(f\"{garbage_type} folder contains {num_images} images.\")\n",
    "\n",
    "        for image_file in image_files:\n",
    "            image_path = os.path.join(folder_path, image_file)\n",
    "            with Image.open(image_path) as img:\n",
    "                width, height = img.size\n",
    "                channels = len(img.getbands())\n",
    "                all_dimensions_set.add((width, height, channels))\n",
    "\n",
    "if len(all_dimensions_set) == 1:\n",
    "    width, height, channels = all_dimensions_set.pop()\n",
    "    print(f\"\\nAll images in the dataset have the same dimensions: {width}x{height} with {channels} color channels.\")\n",
    "else:\n",
    "    print(\"\\nThe images in the dataset have different dimensions or color channels.\")"
   ]
  },
  {
   "cell_type": "code",
   "execution_count": null,
   "metadata": {
    "execution": {
     "iopub.execute_input": "2024-09-09T06:04:02.575140Z",
     "iopub.status.busy": "2024-09-09T06:04:02.574832Z",
     "iopub.status.idle": "2024-09-09T06:04:03.547610Z",
     "shell.execute_reply": "2024-09-09T06:04:03.546716Z",
     "shell.execute_reply.started": "2024-09-09T06:04:02.575108Z"
    },
    "trusted": true
   },
   "outputs": [],
   "source": [
    "for garbage_type in garbage_types:\n",
    "    folder_path = os.path.join(dataset_path, garbage_type)\n",
    "\n",
    "    if os.path.isdir(folder_path):\n",
    "        image_files = [f for f in os.listdir(folder_path) if f.endswith(('png', 'jpeg', 'jpg'))]\n",
    "\n",
    "        image_files = image_files[:7]\n",
    "\n",
    "        fig, axs = plt.subplots(1, 7, figsize=(15, 2))\n",
    "\n",
    "        for i, image_file in enumerate(image_files):\n",
    "            image_path = os.path.join(folder_path, image_file)\n",
    "            with Image.open(image_path) as img:\n",
    "                axs[i].imshow(img)\n",
    "                axs[i].axis('off')\n",
    "\n",
    "        plt.tight_layout()\n",
    "        fig.suptitle(garbage_type, fontsize=20, y=1.03)"
   ]
  },
  {
   "cell_type": "code",
   "execution_count": null,
   "metadata": {
    "execution": {
     "iopub.execute_input": "2024-09-09T06:04:03.550243Z",
     "iopub.status.busy": "2024-09-09T06:04:03.549885Z",
     "iopub.status.idle": "2024-09-09T06:04:03.596425Z",
     "shell.execute_reply": "2024-09-09T06:04:03.595483Z",
     "shell.execute_reply.started": "2024-09-09T06:04:03.550208Z"
    },
    "trusted": true
   },
   "outputs": [],
   "source": [
    "data = []\n",
    "\n",
    "for garbage_type in garbage_types:\n",
    "    for file in os.listdir(os.path.join(dataset_path, garbage_type)):\n",
    "        data.append((os.path.join(dataset_path, garbage_type, file), garbage_type))\n",
    "\n",
    "df = pd.DataFrame(data, columns=['filepath', 'label'])\n",
    "\n",
    "print(df.head())\n",
    "\n",
    "train_ratio = 0.55\n",
    "val_ratio = 0.15\n",
    "test_ratio = 0.30\n",
    "\n",
    "temp, val_df = train_test_split(df, test_size=val_ratio, stratify=df['label'], random_state=42)\n",
    "\n",
    "train_df, test_df = train_test_split(temp, test_size=test_ratio / (train_ratio + test_ratio), random_state=42, stratify=temp['label'])\n",
    "\n",
    "print(f\"Number of images in the training set: {len(train_df)}\")\n",
    "print(f\"Number of images in the test set: {len(test_df)}\")\n",
    "print(f\"Number of images in the validation set: {len(val_df)}\")\n"
   ]
  },
  {
   "cell_type": "code",
   "execution_count": null,
   "metadata": {
    "execution": {
     "iopub.execute_input": "2024-09-09T06:04:03.598031Z",
     "iopub.status.busy": "2024-09-09T06:04:03.597691Z",
     "iopub.status.idle": "2024-09-09T06:04:06.246805Z",
     "shell.execute_reply": "2024-09-09T06:04:06.245655Z",
     "shell.execute_reply.started": "2024-09-09T06:04:03.597997Z"
    },
    "trusted": true
   },
   "outputs": [],
   "source": [
    "from tensorflow.keras.applications import VGG16, ResNet50, DenseNet121\n",
    "\n",
    "base_model = ResNet50(weights='imagenet', include_top=False, input_shape=(224, 224, 3))\n",
    "\n",
    "for layer in base_model.layers:\n",
    "    layer.trainable = False"
   ]
  },
  {
   "cell_type": "code",
   "execution_count": 6,
   "metadata": {
    "execution": {
     "iopub.execute_input": "2024-09-09T06:04:06.248807Z",
     "iopub.status.busy": "2024-09-09T06:04:06.248391Z",
     "iopub.status.idle": "2024-09-09T06:04:06.325398Z",
     "shell.execute_reply": "2024-09-09T06:04:06.324512Z",
     "shell.execute_reply.started": "2024-09-09T06:04:06.248759Z"
    },
    "trusted": true
   },
   "outputs": [],
   "source": [
    "x = Flatten()(base_model.output)\n",
    "x = Dense(32, activation='relu', kernel_regularizer=l2(0.0001))(x)\n",
    "x = BatchNormalization()(x)\n",
    "x = Dropout(0.5)(x)\n",
    "\n",
    "predictions = Dense(1, activation='sigmoid')(x)\n",
    "\n",
    "model = Model(inputs=base_model.input, outputs=predictions)"
   ]
  },
  {
   "cell_type": "code",
   "execution_count": 7,
   "metadata": {
    "execution": {
     "iopub.execute_input": "2024-09-09T06:04:06.327508Z",
     "iopub.status.busy": "2024-09-09T06:04:06.326809Z",
     "iopub.status.idle": "2024-09-09T06:04:06.342906Z",
     "shell.execute_reply": "2024-09-09T06:04:06.342059Z",
     "shell.execute_reply.started": "2024-09-09T06:04:06.327453Z"
    },
    "trusted": true
   },
   "outputs": [],
   "source": [
    "model.compile(optimizer=Adam(learning_rate=0.001), loss='binary_crossentropy', metrics=['accuracy'])\n",
    "# model.summary()"
   ]
  },
  {
   "cell_type": "code",
   "execution_count": 8,
   "metadata": {
    "execution": {
     "iopub.execute_input": "2024-09-09T06:04:06.344509Z",
     "iopub.status.busy": "2024-09-09T06:04:06.344213Z",
     "iopub.status.idle": "2024-09-09T06:04:06.350205Z",
     "shell.execute_reply": "2024-09-09T06:04:06.349383Z",
     "shell.execute_reply.started": "2024-09-09T06:04:06.344477Z"
    },
    "trusted": true
   },
   "outputs": [],
   "source": [
    "checkpoint = ModelCheckpoint(\n",
    "    'best_model.keras', monitor='val_loss', verbose=1, save_best_only=True, mode='min'\n",
    ")\n",
    "\n",
    "early_stopping = EarlyStopping(\n",
    "    monitor='val_loss', patience=30, verbose=1, mode='min'\n",
    ")\n",
    "\n",
    "csv_logger = CSVLogger('training_log.csv')\n",
    "\n",
    "callbacks_list = [checkpoint, early_stopping, csv_logger]"
   ]
  },
  {
   "cell_type": "code",
   "execution_count": null,
   "metadata": {
    "execution": {
     "iopub.execute_input": "2024-09-09T06:04:06.351573Z",
     "iopub.status.busy": "2024-09-09T06:04:06.351281Z",
     "iopub.status.idle": "2024-09-09T06:04:07.973541Z",
     "shell.execute_reply": "2024-09-09T06:04:07.972592Z",
     "shell.execute_reply.started": "2024-09-09T06:04:06.351541Z"
    },
    "trusted": true
   },
   "outputs": [],
   "source": [
    "from tensorflow.keras.preprocessing.image import ImageDataGenerator\n",
    "\n",
    "train_datagen = ImageDataGenerator(rescale=1./255)\n",
    "test_datagen = ImageDataGenerator(rescale=1./255)\n",
    "val_datagen = ImageDataGenerator(rescale=1./255)\n",
    "\n",
    "train_generator = train_datagen.flow_from_dataframe(\n",
    "    train_df,\n",
    "    x_col='filepath',\n",
    "    y_col='label',\n",
    "    target_size=(224, 224), \n",
    "    batch_size=32,\n",
    "    class_mode='binary'  \n",
    ")\n",
    "\n",
    "test_generator = test_datagen.flow_from_dataframe(\n",
    "    test_df,\n",
    "    x_col='filepath',\n",
    "    y_col='label',\n",
    "    target_size=(224, 224),\n",
    "    batch_size=32,\n",
    "    class_mode='binary'\n",
    ")\n",
    "\n",
    "val_generator = val_datagen.flow_from_dataframe(\n",
    "    val_df,\n",
    "    x_col='filepath',\n",
    "    y_col='label',\n",
    "    target_size=(224, 224),\n",
    "    batch_size=32,\n",
    "    class_mode='binary'\n",
    ")"
   ]
  },
  {
   "cell_type": "code",
   "execution_count": null,
   "metadata": {
    "execution": {
     "iopub.execute_input": "2024-09-09T06:04:07.976727Z",
     "iopub.status.busy": "2024-09-09T06:04:07.976417Z",
     "iopub.status.idle": "2024-09-09T06:14:01.774874Z",
     "shell.execute_reply": "2024-09-09T06:14:01.773861Z",
     "shell.execute_reply.started": "2024-09-09T06:04:07.976695Z"
    },
    "trusted": true
   },
   "outputs": [],
   "source": [
    "start_time = time()\n",
    "\n",
    "history = model.fit(\n",
    "    train_generator,\n",
    "    steps_per_epoch=train_generator.samples // train_generator.batch_size,\n",
    "    epochs=200,\n",
    "    validation_data=val_generator,\n",
    "    validation_steps=val_generator.samples // val_generator.batch_size,\n",
    "    callbacks = callbacks_list\n",
    ")\n",
    "\n",
    "end_time = time()\n",
    "training_time = end_time - start_time\n",
    "\n",
    "print(f\"Total training time: {training_time // 60} minutes and {training_time % 60} seconds\")"
   ]
  },
  {
   "cell_type": "code",
   "execution_count": null,
   "metadata": {
    "execution": {
     "iopub.execute_input": "2024-09-09T06:14:39.666032Z",
     "iopub.status.busy": "2024-09-09T06:14:39.665238Z",
     "iopub.status.idle": "2024-09-09T06:14:43.400298Z",
     "shell.execute_reply": "2024-09-09T06:14:43.399406Z",
     "shell.execute_reply.started": "2024-09-09T06:14:39.665989Z"
    },
    "trusted": true
   },
   "outputs": [],
   "source": [
    "val_loss, val_accuracy = model.evaluate(val_generator, steps=val_generator.samples // val_generator.batch_size)\n",
    "print(f\"Validation Loss: {val_loss}\")\n",
    "print(f\"Validation Accuracy: {val_accuracy}\")\n",
    "\n",
    "test_loss, test_accuracy = model.evaluate(test_generator, steps=test_generator.samples // test_generator.batch_size)\n",
    "print(f\"Test Loss: {test_loss}\")\n",
    "print(f\"Test Accuracy: {test_accuracy}\")"
   ]
  },
  {
   "cell_type": "code",
   "execution_count": null,
   "metadata": {
    "execution": {
     "iopub.execute_input": "2024-09-09T06:14:05.438328Z",
     "iopub.status.busy": "2024-09-09T06:14:05.437652Z",
     "iopub.status.idle": "2024-09-09T06:14:05.947346Z",
     "shell.execute_reply": "2024-09-09T06:14:05.946444Z",
     "shell.execute_reply.started": "2024-09-09T06:14:05.438280Z"
    },
    "trusted": true
   },
   "outputs": [],
   "source": [
    "import matplotlib.pyplot as plt\n",
    "\n",
    "plt.figure(figsize=(12, 4))\n",
    "\n",
    "plt.subplot(1, 2, 1)\n",
    "plt.plot(history.history['accuracy'])\n",
    "plt.plot(history.history['val_accuracy'])\n",
    "plt.title('Model Accuracy')\n",
    "plt.ylabel('Accuracy')\n",
    "plt.xlabel('Epoch')\n",
    "plt.legend(['Train', 'Validation'], loc='lower left')\n",
    "\n",
    "plt.subplot(1, 2, 2)\n",
    "plt.plot(history.history['loss'])\n",
    "plt.plot(history.history['val_loss'])\n",
    "plt.title('Model Loss')\n",
    "plt.ylabel('Loss')\n",
    "plt.xlabel('Epoch')\n",
    "plt.legend(['Train', 'Validation'], loc='upper left')\n",
    "\n",
    "plt.show()"
   ]
  }
 ],
 "metadata": {
  "kaggle": {
   "accelerator": "gpu",
   "dataSources": [
    {
     "datasetId": 5105062,
     "sourceId": 8544644,
     "sourceType": "datasetVersion"
    }
   ],
   "dockerImageVersionId": 30762,
   "isGpuEnabled": true,
   "isInternetEnabled": true,
   "language": "python",
   "sourceType": "notebook"
  },
  "kernelspec": {
   "display_name": "Python 3",
   "language": "python",
   "name": "python3"
  },
  "language_info": {
   "codemirror_mode": {
    "name": "ipython",
    "version": 3
   },
   "file_extension": ".py",
   "mimetype": "text/x-python",
   "name": "python",
   "nbconvert_exporter": "python",
   "pygments_lexer": "ipython3",
   "version": "3.10.14"
  }
 },
 "nbformat": 4,
 "nbformat_minor": 4
}
