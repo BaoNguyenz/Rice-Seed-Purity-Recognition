{
 "cells": [
  {
   "cell_type": "code",
   "execution_count": 1,
   "metadata": {
    "_cell_guid": "b1076dfc-b9ad-4769-8c92-a6c4dae69d19",
    "_uuid": "8f2839f25d086af736a60e9eeb907d3b93b6e0e5",
    "execution": {
     "iopub.execute_input": "2024-09-09T07:42:17.840328Z",
     "iopub.status.busy": "2024-09-09T07:42:17.839500Z",
     "iopub.status.idle": "2024-09-09T07:42:30.471034Z",
     "shell.execute_reply": "2024-09-09T07:42:30.470038Z",
     "shell.execute_reply.started": "2024-09-09T07:42:17.840269Z"
    },
    "trusted": true
   },
   "outputs": [],
   "source": [
    "import os\n",
    "from PIL import Image\n",
    "import pandas as pd\n",
    "import matplotlib.pyplot as plt\n",
    "from sklearn.model_selection import train_test_split\n",
    "from sklearn.preprocessing import LabelEncoder\n",
    "\n",
    "import tensorflow as tf\n",
    "from tensorflow.keras.models import Sequential\n",
    "from tensorflow.keras.layers import Dense, Flatten, Conv2D, Input, LayerNormalization, Dropout, Add\n",
    "from tensorflow.keras.optimizers import Adam\n",
    "from tensorflow.keras import Model\n",
    "from tensorflow.keras.layers import MultiHeadAttention\n",
    "\n",
    "from tensorflow.keras.models import Model\n",
    "from tensorflow.keras.layers import Dense, Flatten, Dropout, BatchNormalization\n",
    "from tensorflow.keras.optimizers import Adam, Nadam\n",
    "from tensorflow.keras.preprocessing.image import ImageDataGenerator\n",
    "from tensorflow.keras.callbacks import ModelCheckpoint, EarlyStopping, ReduceLROnPlateau, CSVLogger\n",
    "from tensorflow.keras.regularizers import l2\n",
    "from time import time"
   ]
  },
  {
   "cell_type": "code",
   "execution_count": null,
   "metadata": {
    "execution": {
     "iopub.execute_input": "2024-09-09T07:42:30.473373Z",
     "iopub.status.busy": "2024-09-09T07:42:30.472806Z",
     "iopub.status.idle": "2024-09-09T07:42:39.153708Z",
     "shell.execute_reply": "2024-09-09T07:42:39.152710Z",
     "shell.execute_reply.started": "2024-09-09T07:42:30.473336Z"
    },
    "trusted": true
   },
   "outputs": [],
   "source": [
    "dataset_path = ''\n",
    "\n",
    "garbage_types = os.listdir(dataset_path)\n",
    "\n",
    "all_dimensions_set = set()\n",
    "\n",
    "for garbage_type in garbage_types:\n",
    "    folder_path = os.path.join(dataset_path, garbage_type)\n",
    "\n",
    "    if os.path.isdir(folder_path):\n",
    "        image_files = [f for f in os.listdir(folder_path) if f.endswith(('png', 'jpeg', 'jpg'))]\n",
    "\n",
    "        num_images = len(image_files)\n",
    "        print(f\"{garbage_type} folder contains {num_images} images.\")\n",
    "\n",
    "        for image_file in image_files:\n",
    "            image_path = os.path.join(folder_path, image_file)\n",
    "            with Image.open(image_path) as img:\n",
    "                width, height = img.size\n",
    "                channels = len(img.getbands())\n",
    "                all_dimensions_set.add((width, height, channels))\n",
    "\n",
    "if len(all_dimensions_set) == 1:\n",
    "    width, height, channels = all_dimensions_set.pop()\n",
    "    print(f\"\\nAll images in the dataset have the same dimensions: {width}x{height} with {channels} color channels.\")\n",
    "else:\n",
    "    print(\"\\nThe images in the dataset have different dimensions or color channels.\")"
   ]
  },
  {
   "cell_type": "code",
   "execution_count": null,
   "metadata": {
    "execution": {
     "iopub.execute_input": "2024-09-09T07:42:39.155130Z",
     "iopub.status.busy": "2024-09-09T07:42:39.154782Z",
     "iopub.status.idle": "2024-09-09T07:42:39.844798Z",
     "shell.execute_reply": "2024-09-09T07:42:39.843727Z",
     "shell.execute_reply.started": "2024-09-09T07:42:39.155055Z"
    },
    "trusted": true
   },
   "outputs": [],
   "source": [
    "for garbage_type in garbage_types:\n",
    "    folder_path = os.path.join(dataset_path, garbage_type)\n",
    "\n",
    "    if os.path.isdir(folder_path):\n",
    "        image_files = [f for f in os.listdir(folder_path) if f.endswith(('png', 'jpeg', 'jpg'))]\n",
    "\n",
    "        image_files = image_files[:7]\n",
    "\n",
    "        fig, axs = plt.subplots(1, 7, figsize=(15, 2))\n",
    "\n",
    "        for i, image_file in enumerate(image_files):\n",
    "            image_path = os.path.join(folder_path, image_file)\n",
    "            with Image.open(image_path) as img:\n",
    "                axs[i].imshow(img)\n",
    "                axs[i].axis('off')\n",
    "\n",
    "        plt.tight_layout()\n",
    "        fig.suptitle(garbage_type, fontsize=20, y=1.03)"
   ]
  },
  {
   "cell_type": "code",
   "execution_count": null,
   "metadata": {
    "execution": {
     "iopub.execute_input": "2024-09-09T07:42:39.848326Z",
     "iopub.status.busy": "2024-09-09T07:42:39.847442Z",
     "iopub.status.idle": "2024-09-09T07:42:39.891595Z",
     "shell.execute_reply": "2024-09-09T07:42:39.890753Z",
     "shell.execute_reply.started": "2024-09-09T07:42:39.848280Z"
    },
    "trusted": true
   },
   "outputs": [],
   "source": [
    "data = []\n",
    "\n",
    "for garbage_type in garbage_types:\n",
    "    for file in os.listdir(os.path.join(dataset_path, garbage_type)):\n",
    "        data.append((os.path.join(dataset_path, garbage_type, file), garbage_type))\n",
    "\n",
    "df = pd.DataFrame(data, columns=['filepath', 'label'])\n",
    "\n",
    "print(df.head())\n",
    "\n",
    "train_ratio = 0.55\n",
    "val_ratio = 0.15\n",
    "test_ratio = 0.30\n",
    "\n",
    "temp, val_df = train_test_split(df, test_size=val_ratio, random_state=42, stratify=df['label'])\n",
    "\n",
    "train_df, test_df = train_test_split(temp, test_size=test_ratio / (train_ratio + test_ratio), random_state=42, stratify=temp['label'])\n",
    "\n",
    "print(f\"Number of images in the training set: {len(train_df)}\")\n",
    "print(f\"Number of images in the test set: {len(test_df)}\")\n",
    "print(f\"Number of images in the validation set: {len(val_df)}\")"
   ]
  },
  {
   "cell_type": "code",
   "execution_count": null,
   "metadata": {
    "execution": {
     "iopub.execute_input": "2024-09-09T07:42:39.892868Z",
     "iopub.status.busy": "2024-09-09T07:42:39.892600Z",
     "iopub.status.idle": "2024-09-09T07:42:44.367688Z",
     "shell.execute_reply": "2024-09-09T07:42:44.366872Z",
     "shell.execute_reply.started": "2024-09-09T07:42:39.892838Z"
    },
    "trusted": true
   },
   "outputs": [],
   "source": [
    "from tensorflow.keras.applications import VGG16, ResNet50, DenseNet121\n",
    "\n",
    "base_model = DenseNet121(weights='imagenet', include_top=False, input_shape=(224, 224, 3))\n",
    "\n",
    "for layer in base_model.layers:\n",
    "    layer.trainable = False"
   ]
  },
  {
   "cell_type": "code",
   "execution_count": 6,
   "metadata": {
    "execution": {
     "iopub.execute_input": "2024-09-09T07:42:44.369140Z",
     "iopub.status.busy": "2024-09-09T07:42:44.368823Z",
     "iopub.status.idle": "2024-09-09T07:42:44.467851Z",
     "shell.execute_reply": "2024-09-09T07:42:44.466951Z",
     "shell.execute_reply.started": "2024-09-09T07:42:44.369107Z"
    },
    "trusted": true
   },
   "outputs": [],
   "source": [
    "x = Flatten()(base_model.output)\n",
    "x = Dense(32, activation='relu', kernel_regularizer=l2(0.01))(x)\n",
    "x = BatchNormalization()(x)\n",
    "x = Dropout(0.5)(x)\n",
    "\n",
    "predictions = Dense(1, activation='sigmoid')(x)\n",
    "\n",
    "model = Model(inputs=base_model.input, outputs=predictions)"
   ]
  },
  {
   "cell_type": "code",
   "execution_count": 7,
   "metadata": {
    "execution": {
     "iopub.execute_input": "2024-09-09T07:42:44.469296Z",
     "iopub.status.busy": "2024-09-09T07:42:44.468993Z",
     "iopub.status.idle": "2024-09-09T07:42:44.483238Z",
     "shell.execute_reply": "2024-09-09T07:42:44.482421Z",
     "shell.execute_reply.started": "2024-09-09T07:42:44.469265Z"
    },
    "trusted": true
   },
   "outputs": [],
   "source": [
    "model.compile(optimizer=Adam(learning_rate=0.001), loss='binary_crossentropy', metrics=['accuracy'])\n",
    "# model.summary()"
   ]
  },
  {
   "cell_type": "code",
   "execution_count": 8,
   "metadata": {
    "execution": {
     "iopub.execute_input": "2024-09-09T07:42:44.484687Z",
     "iopub.status.busy": "2024-09-09T07:42:44.484412Z",
     "iopub.status.idle": "2024-09-09T07:42:44.489900Z",
     "shell.execute_reply": "2024-09-09T07:42:44.488922Z",
     "shell.execute_reply.started": "2024-09-09T07:42:44.484656Z"
    },
    "trusted": true
   },
   "outputs": [],
   "source": [
    "checkpoint = ModelCheckpoint(\n",
    "    'best_model.keras', monitor='val_loss', verbose=1, save_best_only=True, mode='min'\n",
    ")\n",
    "\n",
    "early_stopping = EarlyStopping(\n",
    "    monitor='val_loss', patience=30, verbose=1, mode='min'\n",
    ")\n",
    "\n",
    "csv_logger = CSVLogger('training_log.csv')\n",
    "\n",
    "callbacks_list = [checkpoint, early_stopping, csv_logger]"
   ]
  },
  {
   "cell_type": "code",
   "execution_count": null,
   "metadata": {
    "execution": {
     "iopub.execute_input": "2024-09-09T07:42:44.491397Z",
     "iopub.status.busy": "2024-09-09T07:42:44.491017Z",
     "iopub.status.idle": "2024-09-09T07:42:45.846738Z",
     "shell.execute_reply": "2024-09-09T07:42:45.845955Z",
     "shell.execute_reply.started": "2024-09-09T07:42:44.491354Z"
    },
    "trusted": true
   },
   "outputs": [],
   "source": [
    "from tensorflow.keras.preprocessing.image import ImageDataGenerator\n",
    "\n",
    "train_datagen = ImageDataGenerator(rescale=1./255)\n",
    "test_datagen = ImageDataGenerator(rescale=1./255)\n",
    "val_datagen = ImageDataGenerator(rescale=1./255)\n",
    "\n",
    "train_generator = train_datagen.flow_from_dataframe(\n",
    "    train_df,\n",
    "    x_col='filepath',\n",
    "    y_col='label',\n",
    "    target_size=(224, 224), \n",
    "    batch_size=32,\n",
    "    class_mode='binary'  \n",
    ")\n",
    "\n",
    "test_generator = test_datagen.flow_from_dataframe(\n",
    "    test_df,\n",
    "    x_col='filepath',\n",
    "    y_col='label',\n",
    "    target_size=(224, 224),\n",
    "    batch_size=32,\n",
    "    class_mode='binary'\n",
    ")\n",
    "\n",
    "val_generator = val_datagen.flow_from_dataframe(\n",
    "    val_df,\n",
    "    x_col='filepath',\n",
    "    y_col='label',\n",
    "    target_size=(224, 224),\n",
    "    batch_size=32,\n",
    "    class_mode='binary'\n",
    ")"
   ]
  },
  {
   "cell_type": "code",
   "execution_count": null,
   "metadata": {
    "execution": {
     "iopub.execute_input": "2024-09-09T07:42:45.849360Z",
     "iopub.status.busy": "2024-09-09T07:42:45.849046Z",
     "iopub.status.idle": "2024-09-09T07:51:46.279391Z",
     "shell.execute_reply": "2024-09-09T07:51:46.278453Z",
     "shell.execute_reply.started": "2024-09-09T07:42:45.849328Z"
    },
    "trusted": true
   },
   "outputs": [],
   "source": [
    "start_time = time()\n",
    "\n",
    "history = model.fit(\n",
    "    train_generator,\n",
    "    steps_per_epoch=train_generator.samples // train_generator.batch_size,\n",
    "    epochs=200,\n",
    "    validation_data=val_generator,\n",
    "    validation_steps=val_generator.samples // val_generator.batch_size,\n",
    "    callBacks = callbacks_list\n",
    ")\n",
    "\n",
    "end_time = time()\n",
    "training_time = end_time - start_time\n",
    "\n",
    "print(f\"Total training time: {training_time // 60} minutes and {training_time % 60} seconds\")"
   ]
  },
  {
   "cell_type": "code",
   "execution_count": null,
   "metadata": {
    "execution": {
     "iopub.execute_input": "2024-09-09T07:52:22.983325Z",
     "iopub.status.busy": "2024-09-09T07:52:22.982453Z",
     "iopub.status.idle": "2024-09-09T07:52:26.200380Z",
     "shell.execute_reply": "2024-09-09T07:52:26.199407Z",
     "shell.execute_reply.started": "2024-09-09T07:52:22.983281Z"
    },
    "trusted": true
   },
   "outputs": [],
   "source": [
    "val_loss, val_accuracy = model.evaluate(val_generator, steps=val_generator.samples // val_generator.batch_size)\n",
    "print(f\"Validation Loss: {val_loss}\")\n",
    "print(f\"Validation Accuracy: {val_accuracy}\")\n",
    "\n",
    "test_loss, test_accuracy = model.evaluate(test_generator, steps=test_generator.samples // test_generator.batch_size)\n",
    "print(f\"Test Loss: {test_loss}\")\n",
    "print(f\"Test Accuracy: {test_accuracy}\")"
   ]
  },
  {
   "cell_type": "code",
   "execution_count": null,
   "metadata": {
    "execution": {
     "iopub.execute_input": "2024-09-09T07:51:49.750311Z",
     "iopub.status.busy": "2024-09-09T07:51:49.749615Z",
     "iopub.status.idle": "2024-09-09T07:51:50.197060Z",
     "shell.execute_reply": "2024-09-09T07:51:50.196054Z",
     "shell.execute_reply.started": "2024-09-09T07:51:49.750263Z"
    },
    "trusted": true
   },
   "outputs": [],
   "source": [
    "import matplotlib.pyplot as plt\n",
    "\n",
    "plt.figure(figsize=(12, 4))\n",
    "\n",
    "plt.subplot(1, 2, 1)\n",
    "plt.plot(history.history['accuracy'])\n",
    "plt.plot(history.history['val_accuracy'])\n",
    "plt.title('Model Accuracy')\n",
    "plt.ylabel('Accuracy')\n",
    "plt.xlabel('Epoch')\n",
    "plt.legend(['Train', 'Validation'], loc='lower left')\n",
    "\n",
    "plt.subplot(1, 2, 2)\n",
    "plt.plot(history.history['loss'])\n",
    "plt.plot(history.history['val_loss'])\n",
    "plt.title('Model Loss')\n",
    "plt.ylabel('Loss')\n",
    "plt.xlabel('Epoch')\n",
    "plt.legend(['Train', 'Validation'], loc='upper left')\n",
    "\n",
    "plt.show()"
   ]
  }
 ],
 "metadata": {
  "kaggle": {
   "accelerator": "gpu",
   "dataSources": [
    {
     "datasetId": 5133403,
     "sourceId": 8583368,
     "sourceType": "datasetVersion"
    }
   ],
   "dockerImageVersionId": 30762,
   "isGpuEnabled": true,
   "isInternetEnabled": true,
   "language": "python",
   "sourceType": "notebook"
  },
  "kernelspec": {
   "display_name": "Python 3",
   "language": "python",
   "name": "python3"
  },
  "language_info": {
   "codemirror_mode": {
    "name": "ipython",
    "version": 3
   },
   "file_extension": ".py",
   "mimetype": "text/x-python",
   "name": "python",
   "nbconvert_exporter": "python",
   "pygments_lexer": "ipython3",
   "version": "3.10.14"
  }
 },
 "nbformat": 4,
 "nbformat_minor": 4
}
